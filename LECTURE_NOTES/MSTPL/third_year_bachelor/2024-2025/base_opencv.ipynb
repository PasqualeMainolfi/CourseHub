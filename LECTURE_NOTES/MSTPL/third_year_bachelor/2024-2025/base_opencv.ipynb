{
 "cells": [
  {
   "cell_type": "code",
   "execution_count": null,
   "metadata": {},
   "outputs": [
    {
     "name": "stderr",
     "output_type": "stream",
     "text": [
      "2024-12-18 17:47:49.917 python[76585:723408] WARNING: AVCaptureDeviceTypeExternal is deprecated for Continuity Cameras. Please use AVCaptureDeviceTypeContinuityCamera and add NSCameraUseContinuityCameraDeviceType to your Info.plist.\n",
      "2024-12-18 17:47:51.005 python[76585:723408] +[IMKClient subclass]: chose IMKClient_Modern\n",
      "2024-12-18 17:47:51.005 python[76585:723408] +[IMKInputSession subclass]: chose IMKInputSession_Modern\n"
     ]
    }
   ],
   "source": [
    "import cv2 as cv\n",
    "import numpy as np\n",
    "\n",
    "def resize(capture: cv.VideoCapture, w: int, h: int) -> None:\n",
    "    capture.set(cv.CAP_PROP_FRAME_WIDTH, w)\n",
    "    capture.set(cv.CAP_PROP_FRAME_HEIGHT, h)\n",
    "\n",
    "cap = cv.VideoCapture(0)\n",
    "# cv.namedWindow(\"test\", cv.WINDOW_KEEPRATIO)\n",
    "\n",
    "W = cv.CAP_PROP_FRAME_WIDTH\n",
    "H = cv.CAP_PROP_FRAME_HEIGHT\n",
    "\n",
    "while cap.isOpened():\n",
    "    check, frame = cap.read()\n",
    "    \n",
    "    if check:\n",
    "        frame = cv.cvtColor(src=frame, code=cv.COLOR_BGR2RGB)\n",
    "        frame = cv.flip(src=frame, flipCode=1)\n",
    "\n",
    "        \n",
    "        # m = np.array([[1, 0, 10], [0, 1, 10]], dtype=np.float32)\n",
    "        m = cv.getRotationMatrix2D(((W - 1) // 2, (H - 1) // 2), 45, 1)\n",
    "        frame = cv.warpAffine(frame, m, (W, H))\n",
    "        \n",
    "        cv.imshow(\"test\", frame)\n",
    "        \n",
    "        if cv.waitKey(int(1000 / 1)) & 0xFF == ord(\"q\"):\n",
    "            break   \n",
    "                \n",
    "cap.release()\n",
    "cv.destroyAllWindows()\n",
    "\n",
    "    "
   ]
  },
  {
   "cell_type": "code",
   "execution_count": null,
   "metadata": {},
   "outputs": [],
   "source": []
  },
  {
   "cell_type": "code",
   "execution_count": null,
   "metadata": {},
   "outputs": [],
   "source": []
  }
 ],
 "metadata": {
  "kernelspec": {
   "display_name": "hub",
   "language": "python",
   "name": "python3"
  },
  "language_info": {
   "codemirror_mode": {
    "name": "ipython",
    "version": 3
   },
   "file_extension": ".py",
   "mimetype": "text/x-python",
   "name": "python",
   "nbconvert_exporter": "python",
   "pygments_lexer": "ipython3",
   "version": "3.12.7"
  }
 },
 "nbformat": 4,
 "nbformat_minor": 2
}
