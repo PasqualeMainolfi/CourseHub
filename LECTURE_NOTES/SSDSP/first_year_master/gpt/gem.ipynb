{
 "cells": [
  {
   "cell_type": "code",
   "execution_count": 17,
   "metadata": {},
   "outputs": [],
   "source": [
    "from craiyon import Craiyon, craiyon_utils\n",
    "from PIL import Image # pip install pillow\n",
    "from io import BytesIO\n",
    "import base64"
   ]
  },
  {
   "cell_type": "code",
   "execution_count": 18,
   "metadata": {},
   "outputs": [
    {
     "name": "stdout",
     "output_type": "stream",
     "text": [
      "['https://img.craiyon.com/2024-06-04/QpzJqDs8R2W5rmmzNrkyTA.webp', 'https://img.craiyon.com/2024-06-04/svueZEgHT222W6Nq8xwyhw.webp', 'https://img.craiyon.com/2024-06-04/iMsY6ADRQ7SgwLM9BjYCzQ.webp', 'https://img.craiyon.com/2024-06-04/yp38ngZ_St6bcFZ9TpjStA.webp', 'https://img.craiyon.com/2024-06-04/yG3izGOTR8G0-9C8HNMlQg.webp', 'https://img.craiyon.com/2024-06-04/Jnsqd-_FTDm48nmiJbrpQQ.webp', 'https://img.craiyon.com/2024-06-04/kDhAl75UTx2qTi-1zXWCpA.webp', 'https://img.craiyon.com/2024-06-04/hil4ef8ZQoSvXT8qfGHjuA.webp', 'https://img.craiyon.com/2024-06-04/vz1NzorNTSyIbeLScA6Ehw.webp']\n",
      "https://img.craiyon.com/2024-06-04/QpzJqDs8R2W5rmmzNrkyTA.webp\n",
      "https://img.craiyon.com/2024-06-04/svueZEgHT222W6Nq8xwyhw.webp\n",
      "https://img.craiyon.com/2024-06-04/iMsY6ADRQ7SgwLM9BjYCzQ.webp\n",
      "https://img.craiyon.com/2024-06-04/yp38ngZ_St6bcFZ9TpjStA.webp\n",
      "https://img.craiyon.com/2024-06-04/yG3izGOTR8G0-9C8HNMlQg.webp\n",
      "https://img.craiyon.com/2024-06-04/Jnsqd-_FTDm48nmiJbrpQQ.webp\n",
      "https://img.craiyon.com/2024-06-04/kDhAl75UTx2qTi-1zXWCpA.webp\n",
      "https://img.craiyon.com/2024-06-04/hil4ef8ZQoSvXT8qfGHjuA.webp\n",
      "https://img.craiyon.com/2024-06-04/vz1NzorNTSyIbeLScA6Ehw.webp\n"
     ]
    }
   ],
   "source": [
    "generator = Craiyon() # Instantiates the api wrapper\n",
    "result = generator.generate(\"Photorealistic image of shrek eating earth\")\n",
    "\n",
    "print(result.images) # Prints a list of the Direct Image URLs hosted on https://img.craiyon.com\n",
    "\n",
    "# Loops through the list and prints each image URL one by one\n",
    "for url in result.images:\n",
    "    print(url)"
   ]
  },
  {
   "cell_type": "code",
   "execution_count": 19,
   "metadata": {},
   "outputs": [
    {
     "name": "stdout",
     "output_type": "stream",
     "text": [
      "an intricate, photorealistic artwork of Shrek digging in the earth with a fork\n"
     ]
    }
   ],
   "source": [
    "generator = Craiyon() # Instantiates the api wrapper\n",
    "result = generator.generate(\"Photorealistic image of shrek eating earth\", negative_prompt=\"spoon\", model_type=\"art\")\n",
    "print(result.description) # Description about the generated images # >>> Shrek devouring planet Earth with a sinister grin\n",
    "result.save_images() # Saves the generated images to 'current working directory/generated', you can also provide a custom path"
   ]
  },
  {
   "cell_type": "code",
   "execution_count": null,
   "metadata": {},
   "outputs": [],
   "source": []
  }
 ],
 "metadata": {
  "kernelspec": {
   "display_name": "ggem",
   "language": "python",
   "name": "python3"
  },
  "language_info": {
   "codemirror_mode": {
    "name": "ipython",
    "version": 3
   },
   "file_extension": ".py",
   "mimetype": "text/x-python",
   "name": "python",
   "nbconvert_exporter": "python",
   "pygments_lexer": "ipython3",
   "version": "3.12.3"
  }
 },
 "nbformat": 4,
 "nbformat_minor": 2
}
